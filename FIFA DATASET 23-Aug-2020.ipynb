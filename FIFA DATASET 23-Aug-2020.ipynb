{
 "cells": [
  {
   "cell_type": "code",
   "execution_count": 1,
   "metadata": {},
   "outputs": [],
   "source": [
    "import numpy as np\n",
    "import pandas as pd\n",
    "import seaborn as sns\n",
    "import matplotlib.pyplot as plt"
   ]
  },
  {
   "cell_type": "code",
   "execution_count": 2,
   "metadata": {},
   "outputs": [
    {
     "data": {
      "text/html": [
       "<div>\n",
       "<style scoped>\n",
       "    .dataframe tbody tr th:only-of-type {\n",
       "        vertical-align: middle;\n",
       "    }\n",
       "\n",
       "    .dataframe tbody tr th {\n",
       "        vertical-align: top;\n",
       "    }\n",
       "\n",
       "    .dataframe thead th {\n",
       "        text-align: right;\n",
       "    }\n",
       "</style>\n",
       "<table border=\"1\" class=\"dataframe\">\n",
       "  <thead>\n",
       "    <tr style=\"text-align: right;\">\n",
       "      <th></th>\n",
       "      <th>Unnamed: 0</th>\n",
       "      <th>ID</th>\n",
       "      <th>Name</th>\n",
       "      <th>Age</th>\n",
       "      <th>Photo</th>\n",
       "      <th>Nationality</th>\n",
       "      <th>Flag</th>\n",
       "      <th>Overall</th>\n",
       "      <th>Potential</th>\n",
       "      <th>Club</th>\n",
       "      <th>...</th>\n",
       "      <th>Composure</th>\n",
       "      <th>Marking</th>\n",
       "      <th>StandingTackle</th>\n",
       "      <th>SlidingTackle</th>\n",
       "      <th>GKDiving</th>\n",
       "      <th>GKHandling</th>\n",
       "      <th>GKKicking</th>\n",
       "      <th>GKPositioning</th>\n",
       "      <th>GKReflexes</th>\n",
       "      <th>Release Clause</th>\n",
       "    </tr>\n",
       "  </thead>\n",
       "  <tbody>\n",
       "    <tr>\n",
       "      <th>14091</th>\n",
       "      <td>14091</td>\n",
       "      <td>234803</td>\n",
       "      <td>N. Baxter</td>\n",
       "      <td>19</td>\n",
       "      <td>https://cdn.sofifa.org/players/4/19/234803.png</td>\n",
       "      <td>England</td>\n",
       "      <td>https://cdn.sofifa.org/flags/14.png</td>\n",
       "      <td>61</td>\n",
       "      <td>72</td>\n",
       "      <td>Yeovil Town</td>\n",
       "      <td>...</td>\n",
       "      <td>35.0</td>\n",
       "      <td>12.0</td>\n",
       "      <td>13.0</td>\n",
       "      <td>12.0</td>\n",
       "      <td>63.0</td>\n",
       "      <td>62.0</td>\n",
       "      <td>62.0</td>\n",
       "      <td>61.0</td>\n",
       "      <td>63.0</td>\n",
       "      <td>€634K</td>\n",
       "    </tr>\n",
       "    <tr>\n",
       "      <th>12793</th>\n",
       "      <td>12793</td>\n",
       "      <td>241591</td>\n",
       "      <td>Brugui</td>\n",
       "      <td>21</td>\n",
       "      <td>https://cdn.sofifa.org/players/4/19/241591.png</td>\n",
       "      <td>Spain</td>\n",
       "      <td>https://cdn.sofifa.org/flags/45.png</td>\n",
       "      <td>63</td>\n",
       "      <td>73</td>\n",
       "      <td>Gimnàstic de Tarragona</td>\n",
       "      <td>...</td>\n",
       "      <td>60.0</td>\n",
       "      <td>29.0</td>\n",
       "      <td>49.0</td>\n",
       "      <td>48.0</td>\n",
       "      <td>12.0</td>\n",
       "      <td>5.0</td>\n",
       "      <td>14.0</td>\n",
       "      <td>7.0</td>\n",
       "      <td>6.0</td>\n",
       "      <td>€1.1M</td>\n",
       "    </tr>\n",
       "    <tr>\n",
       "      <th>17073</th>\n",
       "      <td>17073</td>\n",
       "      <td>240947</td>\n",
       "      <td>T. Mitchell</td>\n",
       "      <td>18</td>\n",
       "      <td>https://cdn.sofifa.org/players/4/19/240947.png</td>\n",
       "      <td>England</td>\n",
       "      <td>https://cdn.sofifa.org/flags/14.png</td>\n",
       "      <td>55</td>\n",
       "      <td>72</td>\n",
       "      <td>Crystal Palace</td>\n",
       "      <td>...</td>\n",
       "      <td>43.0</td>\n",
       "      <td>56.0</td>\n",
       "      <td>62.0</td>\n",
       "      <td>59.0</td>\n",
       "      <td>9.0</td>\n",
       "      <td>12.0</td>\n",
       "      <td>14.0</td>\n",
       "      <td>8.0</td>\n",
       "      <td>14.0</td>\n",
       "      <td>€404K</td>\n",
       "    </tr>\n",
       "    <tr>\n",
       "      <th>12971</th>\n",
       "      <td>12971</td>\n",
       "      <td>242661</td>\n",
       "      <td>H. Camara</td>\n",
       "      <td>20</td>\n",
       "      <td>https://cdn.sofifa.org/players/4/19/242661.png</td>\n",
       "      <td>Saudi Arabia</td>\n",
       "      <td>https://cdn.sofifa.org/flags/183.png</td>\n",
       "      <td>63</td>\n",
       "      <td>77</td>\n",
       "      <td>Al Qadisiyah</td>\n",
       "      <td>...</td>\n",
       "      <td>59.0</td>\n",
       "      <td>15.0</td>\n",
       "      <td>18.0</td>\n",
       "      <td>11.0</td>\n",
       "      <td>5.0</td>\n",
       "      <td>14.0</td>\n",
       "      <td>6.0</td>\n",
       "      <td>10.0</td>\n",
       "      <td>15.0</td>\n",
       "      <td>€1.9M</td>\n",
       "    </tr>\n",
       "    <tr>\n",
       "      <th>609</th>\n",
       "      <td>609</td>\n",
       "      <td>206652</td>\n",
       "      <td>Sergio Rico</td>\n",
       "      <td>24</td>\n",
       "      <td>https://cdn.sofifa.org/players/4/19/206652.png</td>\n",
       "      <td>Spain</td>\n",
       "      <td>https://cdn.sofifa.org/flags/45.png</td>\n",
       "      <td>79</td>\n",
       "      <td>83</td>\n",
       "      <td>Fulham</td>\n",
       "      <td>...</td>\n",
       "      <td>60.0</td>\n",
       "      <td>16.0</td>\n",
       "      <td>11.0</td>\n",
       "      <td>11.0</td>\n",
       "      <td>77.0</td>\n",
       "      <td>78.0</td>\n",
       "      <td>77.0</td>\n",
       "      <td>79.0</td>\n",
       "      <td>81.0</td>\n",
       "      <td>NaN</td>\n",
       "    </tr>\n",
       "    <tr>\n",
       "      <th>6504</th>\n",
       "      <td>6504</td>\n",
       "      <td>212454</td>\n",
       "      <td>C. O'Dowda</td>\n",
       "      <td>23</td>\n",
       "      <td>https://cdn.sofifa.org/players/4/19/212454.png</td>\n",
       "      <td>Republic of Ireland</td>\n",
       "      <td>https://cdn.sofifa.org/flags/25.png</td>\n",
       "      <td>69</td>\n",
       "      <td>77</td>\n",
       "      <td>Bristol City</td>\n",
       "      <td>...</td>\n",
       "      <td>56.0</td>\n",
       "      <td>43.0</td>\n",
       "      <td>31.0</td>\n",
       "      <td>25.0</td>\n",
       "      <td>14.0</td>\n",
       "      <td>14.0</td>\n",
       "      <td>7.0</td>\n",
       "      <td>14.0</td>\n",
       "      <td>10.0</td>\n",
       "      <td>€3.2M</td>\n",
       "    </tr>\n",
       "    <tr>\n",
       "      <th>6938</th>\n",
       "      <td>6938</td>\n",
       "      <td>212817</td>\n",
       "      <td>Lee Jeong Hyeop</td>\n",
       "      <td>27</td>\n",
       "      <td>https://cdn.sofifa.org/players/4/19/212817.png</td>\n",
       "      <td>Korea Republic</td>\n",
       "      <td>https://cdn.sofifa.org/flags/167.png</td>\n",
       "      <td>68</td>\n",
       "      <td>69</td>\n",
       "      <td>Shonan Bellmare</td>\n",
       "      <td>...</td>\n",
       "      <td>72.0</td>\n",
       "      <td>24.0</td>\n",
       "      <td>31.0</td>\n",
       "      <td>26.0</td>\n",
       "      <td>10.0</td>\n",
       "      <td>8.0</td>\n",
       "      <td>7.0</td>\n",
       "      <td>8.0</td>\n",
       "      <td>12.0</td>\n",
       "      <td>€1.4M</td>\n",
       "    </tr>\n",
       "    <tr>\n",
       "      <th>233</th>\n",
       "      <td>233</td>\n",
       "      <td>227055</td>\n",
       "      <td>Gelson Martins</td>\n",
       "      <td>23</td>\n",
       "      <td>https://cdn.sofifa.org/players/4/19/227055.png</td>\n",
       "      <td>Portugal</td>\n",
       "      <td>https://cdn.sofifa.org/flags/38.png</td>\n",
       "      <td>82</td>\n",
       "      <td>87</td>\n",
       "      <td>Atlético Madrid</td>\n",
       "      <td>...</td>\n",
       "      <td>85.0</td>\n",
       "      <td>54.0</td>\n",
       "      <td>46.0</td>\n",
       "      <td>36.0</td>\n",
       "      <td>12.0</td>\n",
       "      <td>9.0</td>\n",
       "      <td>7.0</td>\n",
       "      <td>6.0</td>\n",
       "      <td>9.0</td>\n",
       "      <td>€62.7M</td>\n",
       "    </tr>\n",
       "    <tr>\n",
       "      <th>15082</th>\n",
       "      <td>15082</td>\n",
       "      <td>233902</td>\n",
       "      <td>A. Diallo</td>\n",
       "      <td>24</td>\n",
       "      <td>https://cdn.sofifa.org/players/4/19/233902.png</td>\n",
       "      <td>Guinea</td>\n",
       "      <td>https://cdn.sofifa.org/flags/118.png</td>\n",
       "      <td>60</td>\n",
       "      <td>66</td>\n",
       "      <td>Red Star FC</td>\n",
       "      <td>...</td>\n",
       "      <td>51.0</td>\n",
       "      <td>30.0</td>\n",
       "      <td>29.0</td>\n",
       "      <td>23.0</td>\n",
       "      <td>14.0</td>\n",
       "      <td>9.0</td>\n",
       "      <td>12.0</td>\n",
       "      <td>6.0</td>\n",
       "      <td>11.0</td>\n",
       "      <td>€546K</td>\n",
       "    </tr>\n",
       "    <tr>\n",
       "      <th>5431</th>\n",
       "      <td>5431</td>\n",
       "      <td>212419</td>\n",
       "      <td>T. Mings</td>\n",
       "      <td>25</td>\n",
       "      <td>https://cdn.sofifa.org/players/4/19/212419.png</td>\n",
       "      <td>England</td>\n",
       "      <td>https://cdn.sofifa.org/flags/14.png</td>\n",
       "      <td>70</td>\n",
       "      <td>72</td>\n",
       "      <td>Bournemouth</td>\n",
       "      <td>...</td>\n",
       "      <td>59.0</td>\n",
       "      <td>70.0</td>\n",
       "      <td>71.0</td>\n",
       "      <td>70.0</td>\n",
       "      <td>7.0</td>\n",
       "      <td>10.0</td>\n",
       "      <td>13.0</td>\n",
       "      <td>7.0</td>\n",
       "      <td>15.0</td>\n",
       "      <td>€3.5M</td>\n",
       "    </tr>\n",
       "  </tbody>\n",
       "</table>\n",
       "<p>10 rows × 89 columns</p>\n",
       "</div>"
      ],
      "text/plain": [
       "       Unnamed: 0      ID             Name  Age  \\\n",
       "14091       14091  234803        N. Baxter   19   \n",
       "12793       12793  241591           Brugui   21   \n",
       "17073       17073  240947      T. Mitchell   18   \n",
       "12971       12971  242661        H. Camara   20   \n",
       "609           609  206652      Sergio Rico   24   \n",
       "6504         6504  212454       C. O'Dowda   23   \n",
       "6938         6938  212817  Lee Jeong Hyeop   27   \n",
       "233           233  227055   Gelson Martins   23   \n",
       "15082       15082  233902        A. Diallo   24   \n",
       "5431         5431  212419         T. Mings   25   \n",
       "\n",
       "                                                Photo          Nationality  \\\n",
       "14091  https://cdn.sofifa.org/players/4/19/234803.png              England   \n",
       "12793  https://cdn.sofifa.org/players/4/19/241591.png                Spain   \n",
       "17073  https://cdn.sofifa.org/players/4/19/240947.png              England   \n",
       "12971  https://cdn.sofifa.org/players/4/19/242661.png         Saudi Arabia   \n",
       "609    https://cdn.sofifa.org/players/4/19/206652.png                Spain   \n",
       "6504   https://cdn.sofifa.org/players/4/19/212454.png  Republic of Ireland   \n",
       "6938   https://cdn.sofifa.org/players/4/19/212817.png       Korea Republic   \n",
       "233    https://cdn.sofifa.org/players/4/19/227055.png             Portugal   \n",
       "15082  https://cdn.sofifa.org/players/4/19/233902.png               Guinea   \n",
       "5431   https://cdn.sofifa.org/players/4/19/212419.png              England   \n",
       "\n",
       "                                       Flag  Overall  Potential  \\\n",
       "14091   https://cdn.sofifa.org/flags/14.png       61         72   \n",
       "12793   https://cdn.sofifa.org/flags/45.png       63         73   \n",
       "17073   https://cdn.sofifa.org/flags/14.png       55         72   \n",
       "12971  https://cdn.sofifa.org/flags/183.png       63         77   \n",
       "609     https://cdn.sofifa.org/flags/45.png       79         83   \n",
       "6504    https://cdn.sofifa.org/flags/25.png       69         77   \n",
       "6938   https://cdn.sofifa.org/flags/167.png       68         69   \n",
       "233     https://cdn.sofifa.org/flags/38.png       82         87   \n",
       "15082  https://cdn.sofifa.org/flags/118.png       60         66   \n",
       "5431    https://cdn.sofifa.org/flags/14.png       70         72   \n",
       "\n",
       "                         Club  ... Composure Marking StandingTackle  \\\n",
       "14091             Yeovil Town  ...      35.0    12.0           13.0   \n",
       "12793  Gimnàstic de Tarragona  ...      60.0    29.0           49.0   \n",
       "17073          Crystal Palace  ...      43.0    56.0           62.0   \n",
       "12971            Al Qadisiyah  ...      59.0    15.0           18.0   \n",
       "609                    Fulham  ...      60.0    16.0           11.0   \n",
       "6504             Bristol City  ...      56.0    43.0           31.0   \n",
       "6938          Shonan Bellmare  ...      72.0    24.0           31.0   \n",
       "233           Atlético Madrid  ...      85.0    54.0           46.0   \n",
       "15082             Red Star FC  ...      51.0    30.0           29.0   \n",
       "5431              Bournemouth  ...      59.0    70.0           71.0   \n",
       "\n",
       "       SlidingTackle GKDiving  GKHandling  GKKicking  GKPositioning  \\\n",
       "14091           12.0     63.0        62.0       62.0           61.0   \n",
       "12793           48.0     12.0         5.0       14.0            7.0   \n",
       "17073           59.0      9.0        12.0       14.0            8.0   \n",
       "12971           11.0      5.0        14.0        6.0           10.0   \n",
       "609             11.0     77.0        78.0       77.0           79.0   \n",
       "6504            25.0     14.0        14.0        7.0           14.0   \n",
       "6938            26.0     10.0         8.0        7.0            8.0   \n",
       "233             36.0     12.0         9.0        7.0            6.0   \n",
       "15082           23.0     14.0         9.0       12.0            6.0   \n",
       "5431            70.0      7.0        10.0       13.0            7.0   \n",
       "\n",
       "      GKReflexes Release Clause  \n",
       "14091       63.0          €634K  \n",
       "12793        6.0          €1.1M  \n",
       "17073       14.0          €404K  \n",
       "12971       15.0          €1.9M  \n",
       "609         81.0            NaN  \n",
       "6504        10.0          €3.2M  \n",
       "6938        12.0          €1.4M  \n",
       "233          9.0         €62.7M  \n",
       "15082       11.0          €546K  \n",
       "5431        15.0          €3.5M  \n",
       "\n",
       "[10 rows x 89 columns]"
      ]
     },
     "execution_count": 2,
     "metadata": {},
     "output_type": "execute_result"
    }
   ],
   "source": [
    "#read data\n",
    "fifa_data = pd.read_csv(\"C:/Users/RAAVAN/Downloads/Python/FIFA_data.csv\")\n",
    "fifa_data.head()\n",
    "fifa_data.sample(10)"
   ]
  },
  {
   "cell_type": "code",
   "execution_count": 3,
   "metadata": {},
   "outputs": [
    {
     "name": "stdout",
     "output_type": "stream",
     "text": [
      "<class 'pandas.core.frame.DataFrame'>\n",
      "RangeIndex: 18207 entries, 0 to 18206\n",
      "Data columns (total 89 columns):\n",
      " #   Column                    Non-Null Count  Dtype  \n",
      "---  ------                    --------------  -----  \n",
      " 0   Unnamed: 0                18207 non-null  int64  \n",
      " 1   ID                        18207 non-null  int64  \n",
      " 2   Name                      18207 non-null  object \n",
      " 3   Age                       18207 non-null  int64  \n",
      " 4   Photo                     18207 non-null  object \n",
      " 5   Nationality               18207 non-null  object \n",
      " 6   Flag                      18207 non-null  object \n",
      " 7   Overall                   18207 non-null  int64  \n",
      " 8   Potential                 18207 non-null  int64  \n",
      " 9   Club                      17966 non-null  object \n",
      " 10  Club Logo                 18207 non-null  object \n",
      " 11  Value                     18207 non-null  object \n",
      " 12  Wage                      18207 non-null  object \n",
      " 13  Special                   18207 non-null  int64  \n",
      " 14  Preferred Foot            18159 non-null  object \n",
      " 15  International Reputation  18159 non-null  float64\n",
      " 16  Weak Foot                 18159 non-null  float64\n",
      " 17  Skill Moves               18159 non-null  float64\n",
      " 18  Work Rate                 18159 non-null  object \n",
      " 19  Body Type                 18159 non-null  object \n",
      " 20  Real Face                 18159 non-null  object \n",
      " 21  Position                  18147 non-null  object \n",
      " 22  Jersey Number             18147 non-null  float64\n",
      " 23  Joined                    16654 non-null  object \n",
      " 24  Loaned From               1264 non-null   object \n",
      " 25  Contract Valid Until      17918 non-null  object \n",
      " 26  Height                    18159 non-null  object \n",
      " 27  Weight                    18159 non-null  object \n",
      " 28  LS                        16122 non-null  object \n",
      " 29  ST                        16122 non-null  object \n",
      " 30  RS                        16122 non-null  object \n",
      " 31  LW                        16122 non-null  object \n",
      " 32  LF                        16122 non-null  object \n",
      " 33  CF                        16122 non-null  object \n",
      " 34  RF                        16122 non-null  object \n",
      " 35  RW                        16122 non-null  object \n",
      " 36  LAM                       16122 non-null  object \n",
      " 37  CAM                       16122 non-null  object \n",
      " 38  RAM                       16122 non-null  object \n",
      " 39  LM                        16122 non-null  object \n",
      " 40  LCM                       16122 non-null  object \n",
      " 41  CM                        16122 non-null  object \n",
      " 42  RCM                       16122 non-null  object \n",
      " 43  RM                        16122 non-null  object \n",
      " 44  LWB                       16122 non-null  object \n",
      " 45  LDM                       16122 non-null  object \n",
      " 46  CDM                       16122 non-null  object \n",
      " 47  RDM                       16122 non-null  object \n",
      " 48  RWB                       16122 non-null  object \n",
      " 49  LB                        16122 non-null  object \n",
      " 50  LCB                       16122 non-null  object \n",
      " 51  CB                        16122 non-null  object \n",
      " 52  RCB                       16122 non-null  object \n",
      " 53  RB                        16122 non-null  object \n",
      " 54  Crossing                  18159 non-null  float64\n",
      " 55  Finishing                 18159 non-null  float64\n",
      " 56  HeadingAccuracy           18159 non-null  float64\n",
      " 57  ShortPassing              18159 non-null  float64\n",
      " 58  Volleys                   18159 non-null  float64\n",
      " 59  Dribbling                 18159 non-null  float64\n",
      " 60  Curve                     18159 non-null  float64\n",
      " 61  FKAccuracy                18159 non-null  float64\n",
      " 62  LongPassing               18159 non-null  float64\n",
      " 63  BallControl               18159 non-null  float64\n",
      " 64  Acceleration              18159 non-null  float64\n",
      " 65  SprintSpeed               18159 non-null  float64\n",
      " 66  Agility                   18159 non-null  float64\n",
      " 67  Reactions                 18159 non-null  float64\n",
      " 68  Balance                   18159 non-null  float64\n",
      " 69  ShotPower                 18159 non-null  float64\n",
      " 70  Jumping                   18159 non-null  float64\n",
      " 71  Stamina                   18159 non-null  float64\n",
      " 72  Strength                  18159 non-null  float64\n",
      " 73  LongShots                 18159 non-null  float64\n",
      " 74  Aggression                18159 non-null  float64\n",
      " 75  Interceptions             18159 non-null  float64\n",
      " 76  Positioning               18159 non-null  float64\n",
      " 77  Vision                    18159 non-null  float64\n",
      " 78  Penalties                 18159 non-null  float64\n",
      " 79  Composure                 18159 non-null  float64\n",
      " 80  Marking                   18159 non-null  float64\n",
      " 81  StandingTackle            18159 non-null  float64\n",
      " 82  SlidingTackle             18159 non-null  float64\n",
      " 83  GKDiving                  18159 non-null  float64\n",
      " 84  GKHandling                18159 non-null  float64\n",
      " 85  GKKicking                 18159 non-null  float64\n",
      " 86  GKPositioning             18159 non-null  float64\n",
      " 87  GKReflexes                18159 non-null  float64\n",
      " 88  Release Clause            16643 non-null  object \n",
      "dtypes: float64(38), int64(6), object(45)\n",
      "memory usage: 12.4+ MB\n"
     ]
    }
   ],
   "source": [
    "fifa_data.info()"
   ]
  },
  {
   "cell_type": "code",
   "execution_count": 4,
   "metadata": {},
   "outputs": [
    {
     "data": {
      "text/plain": [
       "Unnamed: 0           0\n",
       "ID                   0\n",
       "Name                 0\n",
       "Age                  0\n",
       "Photo                0\n",
       "                  ... \n",
       "GKHandling          48\n",
       "GKKicking           48\n",
       "GKPositioning       48\n",
       "GKReflexes          48\n",
       "Release Clause    1564\n",
       "Length: 89, dtype: int64"
      ]
     },
     "execution_count": 4,
     "metadata": {},
     "output_type": "execute_result"
    }
   ],
   "source": [
    "#Total Null Values\n",
    "#observe the total no. of null values\n",
    "fifa_data.isnull().sum()"
   ]
  },
  {
   "cell_type": "code",
   "execution_count": 5,
   "metadata": {},
   "outputs": [
    {
     "data": {
      "text/html": [
       "<div>\n",
       "<style scoped>\n",
       "    .dataframe tbody tr th:only-of-type {\n",
       "        vertical-align: middle;\n",
       "    }\n",
       "\n",
       "    .dataframe tbody tr th {\n",
       "        vertical-align: top;\n",
       "    }\n",
       "\n",
       "    .dataframe thead th {\n",
       "        text-align: right;\n",
       "    }\n",
       "</style>\n",
       "<table border=\"1\" class=\"dataframe\">\n",
       "  <thead>\n",
       "    <tr style=\"text-align: right;\">\n",
       "      <th></th>\n",
       "      <th>Unnamed: 0</th>\n",
       "      <th>ID</th>\n",
       "      <th>Age</th>\n",
       "      <th>Overall</th>\n",
       "      <th>Potential</th>\n",
       "      <th>Special</th>\n",
       "      <th>International Reputation</th>\n",
       "      <th>Weak Foot</th>\n",
       "      <th>Skill Moves</th>\n",
       "      <th>Jersey Number</th>\n",
       "      <th>...</th>\n",
       "      <th>Penalties</th>\n",
       "      <th>Composure</th>\n",
       "      <th>Marking</th>\n",
       "      <th>StandingTackle</th>\n",
       "      <th>SlidingTackle</th>\n",
       "      <th>GKDiving</th>\n",
       "      <th>GKHandling</th>\n",
       "      <th>GKKicking</th>\n",
       "      <th>GKPositioning</th>\n",
       "      <th>GKReflexes</th>\n",
       "    </tr>\n",
       "  </thead>\n",
       "  <tbody>\n",
       "    <tr>\n",
       "      <th>count</th>\n",
       "      <td>18207.000000</td>\n",
       "      <td>18207.000000</td>\n",
       "      <td>18207.000000</td>\n",
       "      <td>18207.000000</td>\n",
       "      <td>18207.000000</td>\n",
       "      <td>18207.000000</td>\n",
       "      <td>18159.000000</td>\n",
       "      <td>18159.000000</td>\n",
       "      <td>18159.000000</td>\n",
       "      <td>18147.000000</td>\n",
       "      <td>...</td>\n",
       "      <td>18159.000000</td>\n",
       "      <td>18159.000000</td>\n",
       "      <td>18159.000000</td>\n",
       "      <td>18159.000000</td>\n",
       "      <td>18159.000000</td>\n",
       "      <td>18159.000000</td>\n",
       "      <td>18159.000000</td>\n",
       "      <td>18159.000000</td>\n",
       "      <td>18159.000000</td>\n",
       "      <td>18159.000000</td>\n",
       "    </tr>\n",
       "    <tr>\n",
       "      <th>mean</th>\n",
       "      <td>9103.000000</td>\n",
       "      <td>214298.338606</td>\n",
       "      <td>25.122206</td>\n",
       "      <td>66.238699</td>\n",
       "      <td>71.307299</td>\n",
       "      <td>1597.809908</td>\n",
       "      <td>1.113222</td>\n",
       "      <td>2.947299</td>\n",
       "      <td>2.361308</td>\n",
       "      <td>19.546096</td>\n",
       "      <td>...</td>\n",
       "      <td>48.548598</td>\n",
       "      <td>58.648274</td>\n",
       "      <td>47.281623</td>\n",
       "      <td>47.697836</td>\n",
       "      <td>45.661435</td>\n",
       "      <td>16.616223</td>\n",
       "      <td>16.391596</td>\n",
       "      <td>16.232061</td>\n",
       "      <td>16.388898</td>\n",
       "      <td>16.710887</td>\n",
       "    </tr>\n",
       "    <tr>\n",
       "      <th>std</th>\n",
       "      <td>5256.052511</td>\n",
       "      <td>29965.244204</td>\n",
       "      <td>4.669943</td>\n",
       "      <td>6.908930</td>\n",
       "      <td>6.136496</td>\n",
       "      <td>272.586016</td>\n",
       "      <td>0.394031</td>\n",
       "      <td>0.660456</td>\n",
       "      <td>0.756164</td>\n",
       "      <td>15.947765</td>\n",
       "      <td>...</td>\n",
       "      <td>15.704053</td>\n",
       "      <td>11.436133</td>\n",
       "      <td>19.904397</td>\n",
       "      <td>21.664004</td>\n",
       "      <td>21.289135</td>\n",
       "      <td>17.695349</td>\n",
       "      <td>16.906900</td>\n",
       "      <td>16.502864</td>\n",
       "      <td>17.034669</td>\n",
       "      <td>17.955119</td>\n",
       "    </tr>\n",
       "    <tr>\n",
       "      <th>min</th>\n",
       "      <td>0.000000</td>\n",
       "      <td>16.000000</td>\n",
       "      <td>16.000000</td>\n",
       "      <td>46.000000</td>\n",
       "      <td>48.000000</td>\n",
       "      <td>731.000000</td>\n",
       "      <td>1.000000</td>\n",
       "      <td>1.000000</td>\n",
       "      <td>1.000000</td>\n",
       "      <td>1.000000</td>\n",
       "      <td>...</td>\n",
       "      <td>5.000000</td>\n",
       "      <td>3.000000</td>\n",
       "      <td>3.000000</td>\n",
       "      <td>2.000000</td>\n",
       "      <td>3.000000</td>\n",
       "      <td>1.000000</td>\n",
       "      <td>1.000000</td>\n",
       "      <td>1.000000</td>\n",
       "      <td>1.000000</td>\n",
       "      <td>1.000000</td>\n",
       "    </tr>\n",
       "    <tr>\n",
       "      <th>25%</th>\n",
       "      <td>4551.500000</td>\n",
       "      <td>200315.500000</td>\n",
       "      <td>21.000000</td>\n",
       "      <td>62.000000</td>\n",
       "      <td>67.000000</td>\n",
       "      <td>1457.000000</td>\n",
       "      <td>1.000000</td>\n",
       "      <td>3.000000</td>\n",
       "      <td>2.000000</td>\n",
       "      <td>8.000000</td>\n",
       "      <td>...</td>\n",
       "      <td>39.000000</td>\n",
       "      <td>51.000000</td>\n",
       "      <td>30.000000</td>\n",
       "      <td>27.000000</td>\n",
       "      <td>24.000000</td>\n",
       "      <td>8.000000</td>\n",
       "      <td>8.000000</td>\n",
       "      <td>8.000000</td>\n",
       "      <td>8.000000</td>\n",
       "      <td>8.000000</td>\n",
       "    </tr>\n",
       "    <tr>\n",
       "      <th>50%</th>\n",
       "      <td>9103.000000</td>\n",
       "      <td>221759.000000</td>\n",
       "      <td>25.000000</td>\n",
       "      <td>66.000000</td>\n",
       "      <td>71.000000</td>\n",
       "      <td>1635.000000</td>\n",
       "      <td>1.000000</td>\n",
       "      <td>3.000000</td>\n",
       "      <td>2.000000</td>\n",
       "      <td>17.000000</td>\n",
       "      <td>...</td>\n",
       "      <td>49.000000</td>\n",
       "      <td>60.000000</td>\n",
       "      <td>53.000000</td>\n",
       "      <td>55.000000</td>\n",
       "      <td>52.000000</td>\n",
       "      <td>11.000000</td>\n",
       "      <td>11.000000</td>\n",
       "      <td>11.000000</td>\n",
       "      <td>11.000000</td>\n",
       "      <td>11.000000</td>\n",
       "    </tr>\n",
       "    <tr>\n",
       "      <th>75%</th>\n",
       "      <td>13654.500000</td>\n",
       "      <td>236529.500000</td>\n",
       "      <td>28.000000</td>\n",
       "      <td>71.000000</td>\n",
       "      <td>75.000000</td>\n",
       "      <td>1787.000000</td>\n",
       "      <td>1.000000</td>\n",
       "      <td>3.000000</td>\n",
       "      <td>3.000000</td>\n",
       "      <td>26.000000</td>\n",
       "      <td>...</td>\n",
       "      <td>60.000000</td>\n",
       "      <td>67.000000</td>\n",
       "      <td>64.000000</td>\n",
       "      <td>66.000000</td>\n",
       "      <td>64.000000</td>\n",
       "      <td>14.000000</td>\n",
       "      <td>14.000000</td>\n",
       "      <td>14.000000</td>\n",
       "      <td>14.000000</td>\n",
       "      <td>14.000000</td>\n",
       "    </tr>\n",
       "    <tr>\n",
       "      <th>max</th>\n",
       "      <td>18206.000000</td>\n",
       "      <td>246620.000000</td>\n",
       "      <td>45.000000</td>\n",
       "      <td>94.000000</td>\n",
       "      <td>95.000000</td>\n",
       "      <td>2346.000000</td>\n",
       "      <td>5.000000</td>\n",
       "      <td>5.000000</td>\n",
       "      <td>5.000000</td>\n",
       "      <td>99.000000</td>\n",
       "      <td>...</td>\n",
       "      <td>92.000000</td>\n",
       "      <td>96.000000</td>\n",
       "      <td>94.000000</td>\n",
       "      <td>93.000000</td>\n",
       "      <td>91.000000</td>\n",
       "      <td>90.000000</td>\n",
       "      <td>92.000000</td>\n",
       "      <td>91.000000</td>\n",
       "      <td>90.000000</td>\n",
       "      <td>94.000000</td>\n",
       "    </tr>\n",
       "  </tbody>\n",
       "</table>\n",
       "<p>8 rows × 44 columns</p>\n",
       "</div>"
      ],
      "text/plain": [
       "         Unnamed: 0             ID           Age       Overall     Potential  \\\n",
       "count  18207.000000   18207.000000  18207.000000  18207.000000  18207.000000   \n",
       "mean    9103.000000  214298.338606     25.122206     66.238699     71.307299   \n",
       "std     5256.052511   29965.244204      4.669943      6.908930      6.136496   \n",
       "min        0.000000      16.000000     16.000000     46.000000     48.000000   \n",
       "25%     4551.500000  200315.500000     21.000000     62.000000     67.000000   \n",
       "50%     9103.000000  221759.000000     25.000000     66.000000     71.000000   \n",
       "75%    13654.500000  236529.500000     28.000000     71.000000     75.000000   \n",
       "max    18206.000000  246620.000000     45.000000     94.000000     95.000000   \n",
       "\n",
       "            Special  International Reputation     Weak Foot   Skill Moves  \\\n",
       "count  18207.000000              18159.000000  18159.000000  18159.000000   \n",
       "mean    1597.809908                  1.113222      2.947299      2.361308   \n",
       "std      272.586016                  0.394031      0.660456      0.756164   \n",
       "min      731.000000                  1.000000      1.000000      1.000000   \n",
       "25%     1457.000000                  1.000000      3.000000      2.000000   \n",
       "50%     1635.000000                  1.000000      3.000000      2.000000   \n",
       "75%     1787.000000                  1.000000      3.000000      3.000000   \n",
       "max     2346.000000                  5.000000      5.000000      5.000000   \n",
       "\n",
       "       Jersey Number  ...     Penalties     Composure       Marking  \\\n",
       "count   18147.000000  ...  18159.000000  18159.000000  18159.000000   \n",
       "mean       19.546096  ...     48.548598     58.648274     47.281623   \n",
       "std        15.947765  ...     15.704053     11.436133     19.904397   \n",
       "min         1.000000  ...      5.000000      3.000000      3.000000   \n",
       "25%         8.000000  ...     39.000000     51.000000     30.000000   \n",
       "50%        17.000000  ...     49.000000     60.000000     53.000000   \n",
       "75%        26.000000  ...     60.000000     67.000000     64.000000   \n",
       "max        99.000000  ...     92.000000     96.000000     94.000000   \n",
       "\n",
       "       StandingTackle  SlidingTackle      GKDiving    GKHandling  \\\n",
       "count    18159.000000   18159.000000  18159.000000  18159.000000   \n",
       "mean        47.697836      45.661435     16.616223     16.391596   \n",
       "std         21.664004      21.289135     17.695349     16.906900   \n",
       "min          2.000000       3.000000      1.000000      1.000000   \n",
       "25%         27.000000      24.000000      8.000000      8.000000   \n",
       "50%         55.000000      52.000000     11.000000     11.000000   \n",
       "75%         66.000000      64.000000     14.000000     14.000000   \n",
       "max         93.000000      91.000000     90.000000     92.000000   \n",
       "\n",
       "          GKKicking  GKPositioning    GKReflexes  \n",
       "count  18159.000000   18159.000000  18159.000000  \n",
       "mean      16.232061      16.388898     16.710887  \n",
       "std       16.502864      17.034669     17.955119  \n",
       "min        1.000000       1.000000      1.000000  \n",
       "25%        8.000000       8.000000      8.000000  \n",
       "50%       11.000000      11.000000     11.000000  \n",
       "75%       14.000000      14.000000     14.000000  \n",
       "max       91.000000      90.000000     94.000000  \n",
       "\n",
       "[8 rows x 44 columns]"
      ]
     },
     "execution_count": 5,
     "metadata": {},
     "output_type": "execute_result"
    }
   ],
   "source": [
    "fifa_data.describe()"
   ]
  },
  {
   "cell_type": "code",
   "execution_count": 6,
   "metadata": {},
   "outputs": [
    {
     "data": {
      "text/plain": [
       "<AxesSubplot:xlabel='Age', ylabel='count'>"
      ]
     },
     "execution_count": 6,
     "metadata": {},
     "output_type": "execute_result"
    },
    {
     "data": {
      "image/png": "[encoded data removed]",
      "text/plain": [
       "<Figure size 1152x432 with 1 Axes>"
      ]
     },
     "metadata": {},
     "output_type": "display_data"
    }
   ],
   "source": [
    "sns.set(style=\"whitegrid\")\n",
    "plt.figure(figsize=(16, 6))\n",
    "sns.countplot(x=\"Age\", data=fifa_data)"
   ]
  },
  {
   "cell_type": "markdown",
   "metadata": {},
   "source": [
    "most players age between 20 to 27."
   ]
  },
  {
   "cell_type": "code",
   "execution_count": 7,
   "metadata": {},
   "outputs": [
    {
     "data": {
      "text/plain": [
       "21    1423\n",
       "26    1387\n",
       "24    1358\n",
       "22    1340\n",
       "23    1332\n",
       "25    1319\n",
       "20    1240\n",
       "27    1162\n",
       "28    1101\n",
       "19    1024\n",
       "29     959\n",
       "30     917\n",
       "18     732\n",
       "31     707\n",
       "32     574\n",
       "33     408\n",
       "34     404\n",
       "17     289\n",
       "35     196\n",
       "36     127\n",
       "37      82\n",
       "16      42\n",
       "38      37\n",
       "39      25\n",
       "40      13\n",
       "41       5\n",
       "44       2\n",
       "42       1\n",
       "45       1\n",
       "Name: Age, dtype: int64"
      ]
     },
     "execution_count": 7,
     "metadata": {},
     "output_type": "execute_result"
    }
   ],
   "source": [
    "#45 yr age person is only one\n",
    "fifa_data['Age'].value_counts()"
   ]
  },
  {
   "cell_type": "code",
   "execution_count": 8,
   "metadata": {},
   "outputs": [
    {
     "data": {
      "text/plain": [
       "(4741    O. Pérez\n",
       " Name: Name, dtype: object,\n",
       " 4741    Mexico\n",
       " Name: Nationality, dtype: object,\n",
       " 4741    Pachuca\n",
       " Name: Club, dtype: object)"
      ]
     },
     "execution_count": 8,
     "metadata": {},
     "output_type": "execute_result"
    }
   ],
   "source": [
    "#Detail info about 45 yr person only footballer\n",
    "obi=fifa_data[fifa_data['Age']==45]\n",
    "obi['Name'], obi['Nationality'], obi['Club']"
   ]
  },
  {
   "cell_type": "code",
   "execution_count": 17,
   "metadata": {},
   "outputs": [],
   "source": [
    "#replace euro sign and M to 000000 and k to 000 after that change the data type\n",
    "fifa_data['Value'] = fifa_data['Value'].str.replace('€', '')\n",
    "fifa_data['Value'] = fifa_data['Value'].str.replace('K', '000')\n",
    "fifa_data['Value'] = fifa_data['Value'].str.replace('M', '000000')\n",
    "\n",
    "fifa_data['Wage'] = fifa_data['Wage'].str.replace('€', '')\n",
    "fifa_data['Wage'] = fifa_data['Wage'].str.replace('K', '000')\n",
    "\n",
    "# Changing the datatypes of the selected columns\n",
    "fifa_data.Value = fifa_data.Value.astype('float')\n",
    "fifa_data.Wage = fifa_data.Wage.astype('int')\n",
    "fifa_data.Name = fifa_data.Name.astype('category')"
   ]
  },
  {
   "cell_type": "code",
   "execution_count": 26,
   "metadata": {},
   "outputs": [
    {
     "name": "stdout",
     "output_type": "stream",
     "text": [
      "<class 'pandas.core.frame.DataFrame'>\n",
      "RangeIndex: 18207 entries, 0 to 18206\n",
      "Data columns (total 89 columns):\n",
      " #   Column                    Non-Null Count  Dtype   \n",
      "---  ------                    --------------  -----   \n",
      " 0   Unnamed: 0                18207 non-null  int64   \n",
      " 1   ID                        18207 non-null  int64   \n",
      " 2   Name                      18207 non-null  category\n",
      " 3   Age                       18207 non-null  int64   \n",
      " 4   Photo                     18207 non-null  object  \n",
      " 5   Nationality               18207 non-null  object  \n",
      " 6   Flag                      18207 non-null  object  \n",
      " 7   Overall                   18207 non-null  int64   \n",
      " 8   Potential                 18207 non-null  int64   \n",
      " 9   Club                      17966 non-null  object  \n",
      " 10  Club Logo                 18207 non-null  object  \n",
      " 11  Value                     18207 non-null  float64 \n",
      " 12  Wage                      18207 non-null  int32   \n",
      " 13  Special                   18207 non-null  int64   \n",
      " 14  Preferred Foot            18159 non-null  object  \n",
      " 15  International Reputation  18159 non-null  float64 \n",
      " 16  Weak Foot                 18159 non-null  float64 \n",
      " 17  Skill Moves               18159 non-null  float64 \n",
      " 18  Work Rate                 18159 non-null  object  \n",
      " 19  Body Type                 18159 non-null  object  \n",
      " 20  Real Face                 18159 non-null  object  \n",
      " 21  Position                  18147 non-null  object  \n",
      " 22  Jersey Number             18147 non-null  float64 \n",
      " 23  Joined                    16654 non-null  object  \n",
      " 24  Loaned From               1264 non-null   object  \n",
      " 25  Contract Valid Until      17918 non-null  object  \n",
      " 26  Height                    18159 non-null  object  \n",
      " 27  Weight                    18159 non-null  object  \n",
      " 28  LS                        16122 non-null  object  \n",
      " 29  ST                        16122 non-null  object  \n",
      " 30  RS                        16122 non-null  object  \n",
      " 31  LW                        16122 non-null  object  \n",
      " 32  LF                        16122 non-null  object  \n",
      " 33  CF                        16122 non-null  object  \n",
      " 34  RF                        16122 non-null  object  \n",
      " 35  RW                        16122 non-null  object  \n",
      " 36  LAM                       16122 non-null  object  \n",
      " 37  CAM                       16122 non-null  object  \n",
      " 38  RAM                       16122 non-null  object  \n",
      " 39  LM                        16122 non-null  object  \n",
      " 40  LCM                       16122 non-null  object  \n",
      " 41  CM                        16122 non-null  object  \n",
      " 42  RCM                       16122 non-null  object  \n",
      " 43  RM                        16122 non-null  object  \n",
      " 44  LWB                       16122 non-null  object  \n",
      " 45  LDM                       16122 non-null  object  \n",
      " 46  CDM                       16122 non-null  object  \n",
      " 47  RDM                       16122 non-null  object  \n",
      " 48  RWB                       16122 non-null  object  \n",
      " 49  LB                        16122 non-null  object  \n",
      " 50  LCB                       16122 non-null  object  \n",
      " 51  CB                        16122 non-null  object  \n",
      " 52  RCB                       16122 non-null  object  \n",
      " 53  RB                        16122 non-null  object  \n",
      " 54  Crossing                  18159 non-null  float64 \n",
      " 55  Finishing                 18159 non-null  float64 \n",
      " 56  HeadingAccuracy           18159 non-null  float64 \n",
      " 57  ShortPassing              18159 non-null  float64 \n",
      " 58  Volleys                   18159 non-null  float64 \n",
      " 59  Dribbling                 18159 non-null  float64 \n",
      " 60  Curve                     18159 non-null  float64 \n",
      " 61  FKAccuracy                18159 non-null  float64 \n",
      " 62  LongPassing               18159 non-null  float64 \n",
      " 63  BallControl               18159 non-null  float64 \n",
      " 64  Acceleration              18159 non-null  float64 \n",
      " 65  SprintSpeed               18159 non-null  float64 \n",
      " 66  Agility                   18159 non-null  float64 \n",
      " 67  Reactions                 18159 non-null  float64 \n",
      " 68  Balance                   18159 non-null  float64 \n",
      " 69  ShotPower                 18159 non-null  float64 \n",
      " 70  Jumping                   18159 non-null  float64 \n",
      " 71  Stamina                   18159 non-null  float64 \n",
      " 72  Strength                  18159 non-null  float64 \n",
      " 73  LongShots                 18159 non-null  float64 \n",
      " 74  Aggression                18159 non-null  float64 \n",
      " 75  Interceptions             18159 non-null  float64 \n",
      " 76  Positioning               18159 non-null  float64 \n",
      " 77  Vision                    18159 non-null  float64 \n",
      " 78  Penalties                 18159 non-null  float64 \n",
      " 79  Composure                 18159 non-null  float64 \n",
      " 80  Marking                   18159 non-null  float64 \n",
      " 81  StandingTackle            18159 non-null  float64 \n",
      " 82  SlidingTackle             18159 non-null  float64 \n",
      " 83  GKDiving                  18159 non-null  float64 \n",
      " 84  GKHandling                18159 non-null  float64 \n",
      " 85  GKKicking                 18159 non-null  float64 \n",
      " 86  GKPositioning             18159 non-null  float64 \n",
      " 87  GKReflexes                18159 non-null  float64 \n",
      " 88  Release Clause            16643 non-null  object  \n",
      "dtypes: category(1), float64(39), int32(1), int64(6), object(42)\n",
      "memory usage: 12.9+ MB\n"
     ]
    }
   ],
   "source": [
    "fifa_data.info()"
   ]
  },
  {
   "cell_type": "code",
   "execution_count": 21,
   "metadata": {},
   "outputs": [
    {
     "data": {
      "text/html": [
       "<div>\n",
       "<style scoped>\n",
       "    .dataframe tbody tr th:only-of-type {\n",
       "        vertical-align: middle;\n",
       "    }\n",
       "\n",
       "    .dataframe tbody tr th {\n",
       "        vertical-align: top;\n",
       "    }\n",
       "\n",
       "    .dataframe thead th {\n",
       "        text-align: right;\n",
       "    }\n",
       "</style>\n",
       "<table border=\"1\" class=\"dataframe\">\n",
       "  <thead>\n",
       "    <tr style=\"text-align: right;\">\n",
       "      <th></th>\n",
       "      <th>Name</th>\n",
       "      <th>Wage</th>\n",
       "    </tr>\n",
       "  </thead>\n",
       "  <tbody>\n",
       "    <tr>\n",
       "      <th>0</th>\n",
       "      <td>L. Messi</td>\n",
       "      <td>565000</td>\n",
       "    </tr>\n",
       "    <tr>\n",
       "      <th>7</th>\n",
       "      <td>L. Suárez</td>\n",
       "      <td>455000</td>\n",
       "    </tr>\n",
       "    <tr>\n",
       "      <th>6</th>\n",
       "      <td>L. Modrić</td>\n",
       "      <td>420000</td>\n",
       "    </tr>\n",
       "    <tr>\n",
       "      <th>1</th>\n",
       "      <td>Cristiano Ronaldo</td>\n",
       "      <td>405000</td>\n",
       "    </tr>\n",
       "    <tr>\n",
       "      <th>8</th>\n",
       "      <td>Sergio Ramos</td>\n",
       "      <td>380000</td>\n",
       "    </tr>\n",
       "    <tr>\n",
       "      <th>11</th>\n",
       "      <td>T. Kroos</td>\n",
       "      <td>355000</td>\n",
       "    </tr>\n",
       "    <tr>\n",
       "      <th>36</th>\n",
       "      <td>G. Bale</td>\n",
       "      <td>355000</td>\n",
       "    </tr>\n",
       "    <tr>\n",
       "      <th>4</th>\n",
       "      <td>K. De Bruyne</td>\n",
       "      <td>355000</td>\n",
       "    </tr>\n",
       "    <tr>\n",
       "      <th>5</th>\n",
       "      <td>E. Hazard</td>\n",
       "      <td>340000</td>\n",
       "    </tr>\n",
       "    <tr>\n",
       "      <th>32</th>\n",
       "      <td>Coutinho</td>\n",
       "      <td>340000</td>\n",
       "    </tr>\n",
       "  </tbody>\n",
       "</table>\n",
       "</div>"
      ],
      "text/plain": [
       "                 Name    Wage\n",
       "0            L. Messi  565000\n",
       "7           L. Suárez  455000\n",
       "6           L. Modrić  420000\n",
       "1   Cristiano Ronaldo  405000\n",
       "8        Sergio Ramos  380000\n",
       "11           T. Kroos  355000\n",
       "36            G. Bale  355000\n",
       "4        K. De Bruyne  355000\n",
       "5           E. Hazard  340000\n",
       "32           Coutinho  340000"
      ]
     },
     "execution_count": 21,
     "metadata": {},
     "output_type": "execute_result"
    }
   ],
   "source": [
    "#Top 10 wage earner footballer name and wage\n",
    "sci = fifa_data.sort_values(by=['Wage'], ascending=False)\n",
    "sci[['Name', 'Wage']].head(10)"
   ]
  },
  {
   "cell_type": "code",
   "execution_count": 28,
   "metadata": {},
   "outputs": [
    {
     "data": {
      "text/plain": [
       "<AxesSubplot:xlabel='Overall', ylabel='Wage'>"
      ]
     },
     "execution_count": 28,
     "metadata": {},
     "output_type": "execute_result"
    },
    {
     "data": {
      "image/png": "[encoded data removed]",
      "text/plain": [
       "<Figure size 1440x432 with 1 Axes>"
      ]
     },
     "metadata": {},
     "output_type": "display_data"
    }
   ],
   "source": [
    "#relation with Overall score vs wage earning\n",
    "sns.set(style=\"whitegrid\")\n",
    "plt.figure(figsize=(20, 6))\n",
    "sns.scatterplot(x='Overall', y='Wage', data=fifa_data)"
   ]
  },
  {
   "cell_type": "markdown",
   "metadata": {},
   "source": [
    "when overall score above 90 then wage value goes upward."
   ]
  },
  {
   "cell_type": "code",
   "execution_count": 29,
   "metadata": {},
   "outputs": [
    {
     "data": {
      "text/plain": [
       "<AxesSubplot:xlabel='Potential', ylabel='Wage'>"
      ]
     },
     "execution_count": 29,
     "metadata": {},
     "output_type": "execute_result"
    },
    {
     "data": {
      "image/png": "[encoded data removed]",
      "text/plain": [
       "<Figure size 1440x432 with 1 Axes>"
      ]
     },
     "metadata": {},
     "output_type": "display_data"
    }
   ],
   "source": [
    "#relation with Potential score vs wage earning\n",
    "sns.set(style=\"whitegrid\")\n",
    "plt.figure(figsize=(20, 6))\n",
    "sns.scatterplot(x='Potential', y='Wage', data=fifa_data)"
   ]
  },
  {
   "cell_type": "code",
   "execution_count": null,
   "metadata": {},
   "outputs": [],
   "source": [
    "Potential score above 90 but still few player got low wage"
   ]
  },
  {
   "cell_type": "code",
   "execution_count": 52,
   "metadata": {},
   "outputs": [
    {
     "data": {
      "text/plain": [
       "<AxesSubplot:xlabel='Age', ylabel='Potential'>"
      ]
     },
     "execution_count": 52,
     "metadata": {},
     "output_type": "execute_result"
    },
    {
     "data": {
      "image/png": "[encoded data removed]",
      "text/plain": [
       "<Figure size 1440x432 with 1 Axes>"
      ]
     },
     "metadata": {},
     "output_type": "display_data"
    }
   ],
   "source": [
    "#relation with Potential vs age \n",
    "sns.set(style=\"whitegrid\")\n",
    "plt.figure(figsize=(20, 6))\n",
    "sns.regplot(y='Potential', x='Age', data=fifa_data)"
   ]
  },
  {
   "cell_type": "markdown",
   "metadata": {},
   "source": [
    "with increasing age potential goes down"
   ]
  },
  {
   "cell_type": "code",
   "execution_count": 30,
   "metadata": {},
   "outputs": [
    {
     "data": {
      "text/plain": [
       "ST     2152\n",
       "GK     2025\n",
       "CB     1778\n",
       "CM     1394\n",
       "LB     1322\n",
       "RB     1291\n",
       "RM     1124\n",
       "LM     1095\n",
       "CAM     958\n",
       "CDM     948\n",
       "RCB     662\n",
       "LCB     648\n",
       "LCM     395\n",
       "RCM     391\n",
       "LW      381\n",
       "RW      370\n",
       "RDM     248\n",
       "LDM     243\n",
       "LS      207\n",
       "RS      203\n",
       "RWB      87\n",
       "LWB      78\n",
       "CF       74\n",
       "RAM      21\n",
       "LAM      21\n",
       "RF       16\n",
       "LF       15\n",
       "Name: Position, dtype: int64"
      ]
     },
     "execution_count": 30,
     "metadata": {},
     "output_type": "execute_result"
    }
   ],
   "source": [
    "#position based total no. player\n",
    "fifa_data['Position'].value_counts()"
   ]
  },
  {
   "cell_type": "code",
   "execution_count": 33,
   "metadata": {},
   "outputs": [
    {
     "data": {
      "text/plain": [
       "<AxesSubplot:xlabel='Position', ylabel='count'>"
      ]
     },
     "execution_count": 33,
     "metadata": {},
     "output_type": "execute_result"
    },
    {
     "data": {
      "image/png": "[encoded data removed]",
      "text/plain": [
       "<Figure size 1440x432 with 1 Axes>"
      ]
     },
     "metadata": {},
     "output_type": "display_data"
    }
   ],
   "source": [
    "#countplot\n",
    "plt.figure(figsize=(20, 6))\n",
    "sns.countplot(fifa_data['Position'])"
   ]
  },
  {
   "cell_type": "code",
   "execution_count": 34,
   "metadata": {},
   "outputs": [
    {
     "data": {
      "text/html": [
       "<div>\n",
       "<style scoped>\n",
       "    .dataframe tbody tr th:only-of-type {\n",
       "        vertical-align: middle;\n",
       "    }\n",
       "\n",
       "    .dataframe tbody tr th {\n",
       "        vertical-align: top;\n",
       "    }\n",
       "\n",
       "    .dataframe thead th {\n",
       "        text-align: right;\n",
       "    }\n",
       "</style>\n",
       "<table border=\"1\" class=\"dataframe\">\n",
       "  <thead>\n",
       "    <tr style=\"text-align: right;\">\n",
       "      <th></th>\n",
       "      <th>Position</th>\n",
       "      <th>Wage</th>\n",
       "    </tr>\n",
       "  </thead>\n",
       "  <tbody>\n",
       "    <tr>\n",
       "      <th>0</th>\n",
       "      <td>CAM</td>\n",
       "      <td>10229.645094</td>\n",
       "    </tr>\n",
       "    <tr>\n",
       "      <th>1</th>\n",
       "      <td>CB</td>\n",
       "      <td>7704.724409</td>\n",
       "    </tr>\n",
       "    <tr>\n",
       "      <th>2</th>\n",
       "      <td>CDM</td>\n",
       "      <td>9315.400844</td>\n",
       "    </tr>\n",
       "    <tr>\n",
       "      <th>3</th>\n",
       "      <td>CF</td>\n",
       "      <td>10216.216216</td>\n",
       "    </tr>\n",
       "    <tr>\n",
       "      <th>4</th>\n",
       "      <td>CM</td>\n",
       "      <td>8340.746055</td>\n",
       "    </tr>\n",
       "  </tbody>\n",
       "</table>\n",
       "</div>"
      ],
      "text/plain": [
       "  Position          Wage\n",
       "0      CAM  10229.645094\n",
       "1       CB   7704.724409\n",
       "2      CDM   9315.400844\n",
       "3       CF  10216.216216\n",
       "4       CM   8340.746055"
      ]
     },
     "execution_count": 34,
     "metadata": {},
     "output_type": "execute_result"
    }
   ],
   "source": [
    "ook=fifa_data.groupby(['Position']).agg({'Wage':np.average}).reset_index()\n",
    "ook.head()"
   ]
  },
  {
   "cell_type": "code",
   "execution_count": 39,
   "metadata": {},
   "outputs": [
    {
     "data": {
      "text/plain": [
       "[Text(0, 0.5, 'Avg. Wage')]"
      ]
     },
     "execution_count": 39,
     "metadata": {},
     "output_type": "execute_result"
    },
    {
     "data": {
      "image/png": "[encoded data removed]",
      "text/plain": [
       "<Figure size 1440x432 with 1 Axes>"
      ]
     },
     "metadata": {},
     "output_type": "display_data"
    }
   ],
   "source": [
    "#Which Position has better average wage earner\n",
    "plt.figure(figsize=(20, 6))\n",
    "sns.barplot(x='Position', y='Wage', data=ook).set( ylabel = \"Avg. Wage\")"
   ]
  },
  {
   "cell_type": "markdown",
   "metadata": {},
   "source": [
    "LF, RF Position has better average wage earner"
   ]
  },
  {
   "cell_type": "code",
   "execution_count": 43,
   "metadata": {},
   "outputs": [
    {
     "data": {
      "text/plain": [
       "<AxesSubplot:xlabel='Age'>"
      ]
     },
     "execution_count": 43,
     "metadata": {},
     "output_type": "execute_result"
    },
    {
     "data": {
      "image/png": "[encoded data removed]",
      "text/plain": [
       "<Figure size 1440x432 with 1 Axes>"
      ]
     },
     "metadata": {},
     "output_type": "display_data"
    }
   ],
   "source": [
    "#Age wise valuation\n",
    "plt.figure(figsize=(20, 6))\n",
    "mean_value_per_age = fifa_data.groupby('Age')['Value'].mean()\n",
    "sns.barplot(x = mean_value_per_age.index, y = mean_value_per_age.values)"
   ]
  },
  {
   "cell_type": "markdown",
   "metadata": {},
   "source": [
    "Age 27,28,29,31 are crucial for valuation"
   ]
  },
  {
   "cell_type": "code",
   "execution_count": 46,
   "metadata": {},
   "outputs": [
    {
     "data": {
      "text/plain": [
       "<AxesSubplot:xlabel='Age'>"
      ]
     },
     "execution_count": 46,
     "metadata": {},
     "output_type": "execute_result"
    },
    {
     "data": {
      "image/png": "[encoded data removed]",
      "text/plain": [
       "<Figure size 1440x432 with 1 Axes>"
      ]
     },
     "metadata": {},
     "output_type": "display_data"
    }
   ],
   "source": [
    "#Age wise wage\n",
    "plt.figure(figsize=(20, 6))\n",
    "mean_value_per_age = fifa_data.groupby('Age')['Wage'].mean()\n",
    "sns.barplot(x = mean_value_per_age.index, y = mean_value_per_age.values)"
   ]
  },
  {
   "cell_type": "markdown",
   "metadata": {},
   "source": [
    "from age 16 wages are increasing upto 31"
   ]
  },
  {
   "cell_type": "code",
   "execution_count": 53,
   "metadata": {},
   "outputs": [
    {
     "data": {
      "text/plain": [
       "<AxesSubplot:xlabel='Age', ylabel='GKReflexes'>"
      ]
     },
     "execution_count": 53,
     "metadata": {},
     "output_type": "execute_result"
    },
    {
     "data": {
      "image/png": "[encoded data removed]",
      "text/plain": [
       "<Figure size 1440x432 with 1 Axes>"
      ]
     },
     "metadata": {},
     "output_type": "display_data"
    }
   ],
   "source": [
    "#relation with Overall score vs wage earning\n",
    "sns.set(style=\"whitegrid\")\n",
    "plt.figure(figsize=(20, 6))\n",
    "sns.regplot(x='Age', y='GKReflexes', data=fifa_data)"
   ]
  }
 ],
 "metadata": {
  "kernelspec": {
   "display_name": "Python 3",
   "language": "python",
   "name": "python3"
  },
  "language_info": {
   "codemirror_mode": {
    "name": "ipython",
    "version": 3
   },
   "file_extension": ".py",
   "mimetype": "text/x-python",
   "name": "python",
   "nbconvert_exporter": "python",
   "pygments_lexer": "ipython3",
   "version": "3.6.5"
  }
 },
 "nbformat": 4,
 "nbformat_minor": 4
}
